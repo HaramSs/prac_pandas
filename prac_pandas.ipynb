{
 "cells": [
  {
   "cell_type": "code",
   "execution_count": 1,
   "id": "a67b4cda-5f13-434b-99ee-8921a3f9e5f3",
   "metadata": {},
   "outputs": [],
   "source": [
    "import numpy as np"
   ]
  },
  {
   "cell_type": "code",
   "execution_count": 2,
   "id": "c7a9e1f2-a2e7-4567-bc92-1a93d2468a46",
   "metadata": {},
   "outputs": [],
   "source": [
    "import pandas as pd"
   ]
  },
  {
   "cell_type": "code",
   "execution_count": null,
   "id": "21a632a0-1212-4598-920b-538b6f156925",
   "metadata": {},
   "outputs": [],
   "source": []
  },
  {
   "cell_type": "code",
   "execution_count": 4,
   "id": "145f7ad0-19ab-48e3-aaaf-3d7c9341b76e",
   "metadata": {},
   "outputs": [],
   "source": [
    "In [3]: s = pd.Series([1, 3, 5, np.nan, 6, 8])"
   ]
  },
  {
   "cell_type": "code",
   "execution_count": null,
   "id": "477a3d46-bd46-4643-aedd-6026da7bc4a3",
   "metadata": {},
   "outputs": [],
   "source": []
  },
  {
   "cell_type": "code",
   "execution_count": 7,
   "id": "6777d6c7-b34a-4e2e-a3ae-1ecca9115a43",
   "metadata": {},
   "outputs": [
    {
     "data": {
      "text/plain": [
       "0    1.0\n",
       "1    3.0\n",
       "2    5.0\n",
       "3    NaN\n",
       "4    6.0\n",
       "5    8.0\n",
       "dtype: float64"
      ]
     },
     "execution_count": 7,
     "metadata": {},
     "output_type": "execute_result"
    }
   ],
   "source": [
    "In [4]: s"
   ]
  },
  {
   "cell_type": "code",
   "execution_count": null,
   "id": "ec3a3ee0-260f-4b94-8741-9f75b15190e4",
   "metadata": {},
   "outputs": [],
   "source": []
  },
  {
   "cell_type": "code",
   "execution_count": null,
   "id": "f7033d0d-2699-4cc7-9612-840a6d8f70be",
   "metadata": {},
   "outputs": [],
   "source": [
    "# date_range()"
   ]
  },
  {
   "cell_type": "code",
   "execution_count": 9,
   "id": "469cff9f-abea-43c4-9f6d-2fdc8f041224",
   "metadata": {},
   "outputs": [],
   "source": [
    "In [5]: dates = pd.date_range(\"20130101\", periods=6) "
   ]
  },
  {
   "cell_type": "code",
   "execution_count": 14,
   "id": "6bef9e2a-cfe0-4d48-97de-69d34ce2823b",
   "metadata": {},
   "outputs": [
    {
     "data": {
      "text/plain": [
       "DatetimeIndex(['2013-01-01', '2013-01-02', '2013-01-03', '2013-01-04',\n",
       "               '2013-01-05', '2013-01-06'],\n",
       "              dtype='datetime64[ns]', freq='D')"
      ]
     },
     "execution_count": 14,
     "metadata": {},
     "output_type": "execute_result"
    }
   ],
   "source": [
    "In [6]: dates"
   ]
  },
  {
   "cell_type": "code",
   "execution_count": 16,
   "id": "f2ba779c-6397-46eb-b8cf-93fd8b5bd1c2",
   "metadata": {},
   "outputs": [],
   "source": [
    "In [7]: df = pd.DataFrame(np.random.randn(6, 4), index=dates, columns=list(\"ABCD\"))"
   ]
  },
  {
   "cell_type": "code",
   "execution_count": 17,
   "id": "c7d20f9b-789c-4f3d-ae0c-993178d06844",
   "metadata": {},
   "outputs": [
    {
     "data": {
      "text/html": [
       "<div>\n",
       "<style scoped>\n",
       "    .dataframe tbody tr th:only-of-type {\n",
       "        vertical-align: middle;\n",
       "    }\n",
       "\n",
       "    .dataframe tbody tr th {\n",
       "        vertical-align: top;\n",
       "    }\n",
       "\n",
       "    .dataframe thead th {\n",
       "        text-align: right;\n",
       "    }\n",
       "</style>\n",
       "<table border=\"1\" class=\"dataframe\">\n",
       "  <thead>\n",
       "    <tr style=\"text-align: right;\">\n",
       "      <th></th>\n",
       "      <th>A</th>\n",
       "      <th>B</th>\n",
       "      <th>C</th>\n",
       "      <th>D</th>\n",
       "    </tr>\n",
       "  </thead>\n",
       "  <tbody>\n",
       "    <tr>\n",
       "      <th>2013-01-01</th>\n",
       "      <td>-2.197240</td>\n",
       "      <td>0.129113</td>\n",
       "      <td>-0.988095</td>\n",
       "      <td>1.192026</td>\n",
       "    </tr>\n",
       "    <tr>\n",
       "      <th>2013-01-02</th>\n",
       "      <td>-0.038755</td>\n",
       "      <td>-1.283670</td>\n",
       "      <td>-1.999282</td>\n",
       "      <td>0.384007</td>\n",
       "    </tr>\n",
       "    <tr>\n",
       "      <th>2013-01-03</th>\n",
       "      <td>0.519579</td>\n",
       "      <td>-0.249360</td>\n",
       "      <td>-0.407249</td>\n",
       "      <td>0.431796</td>\n",
       "    </tr>\n",
       "    <tr>\n",
       "      <th>2013-01-04</th>\n",
       "      <td>0.974347</td>\n",
       "      <td>-0.528718</td>\n",
       "      <td>0.845390</td>\n",
       "      <td>-1.507097</td>\n",
       "    </tr>\n",
       "    <tr>\n",
       "      <th>2013-01-05</th>\n",
       "      <td>-0.961716</td>\n",
       "      <td>-0.135289</td>\n",
       "      <td>0.420836</td>\n",
       "      <td>1.773432</td>\n",
       "    </tr>\n",
       "    <tr>\n",
       "      <th>2013-01-06</th>\n",
       "      <td>1.163448</td>\n",
       "      <td>0.609951</td>\n",
       "      <td>-0.697692</td>\n",
       "      <td>1.838430</td>\n",
       "    </tr>\n",
       "  </tbody>\n",
       "</table>\n",
       "</div>"
      ],
      "text/plain": [
       "                   A         B         C         D\n",
       "2013-01-01 -2.197240  0.129113 -0.988095  1.192026\n",
       "2013-01-02 -0.038755 -1.283670 -1.999282  0.384007\n",
       "2013-01-03  0.519579 -0.249360 -0.407249  0.431796\n",
       "2013-01-04  0.974347 -0.528718  0.845390 -1.507097\n",
       "2013-01-05 -0.961716 -0.135289  0.420836  1.773432\n",
       "2013-01-06  1.163448  0.609951 -0.697692  1.838430"
      ]
     },
     "execution_count": 17,
     "metadata": {},
     "output_type": "execute_result"
    }
   ],
   "source": [
    "In [8]: df"
   ]
  },
  {
   "cell_type": "code",
   "execution_count": null,
   "id": "4604cfb7-1ebd-4977-a30d-61f71fe38974",
   "metadata": {},
   "outputs": [],
   "source": []
  },
  {
   "cell_type": "code",
   "execution_count": null,
   "id": "8e3ec0fc-2abb-4647-964c-d454188a81a1",
   "metadata": {},
   "outputs": [],
   "source": [
    "# df 키가 열 레이블, 값이 열 값"
   ]
  },
  {
   "cell_type": "code",
   "execution_count": 20,
   "id": "cff9bf77-104f-4659-8d99-bab6727ffac7",
   "metadata": {},
   "outputs": [],
   "source": [
    "In [9]: df2 = pd.DataFrame(\n",
    "            {\n",
    "                \"A\": 1.0,\n",
    "                \"B\": pd.Timestamp(\"20130102\"),\n",
    "                \"C\": pd.Series(1, index=list(range(4)), dtype=\"float32\"),\n",
    "                \"D\": np.array([3] *4, dtype=\"int32\"),\n",
    "                \"E\": pd.Categorical([\"test\", \"train\", \"test\", \"train\"]),\n",
    "                \"F\": \"foo\",\n",
    "            }\n",
    ")"
   ]
  },
  {
   "cell_type": "code",
   "execution_count": 21,
   "id": "895ca03d-fef3-4b0b-b513-4b085dc26ed7",
   "metadata": {},
   "outputs": [
    {
     "data": {
      "text/html": [
       "<div>\n",
       "<style scoped>\n",
       "    .dataframe tbody tr th:only-of-type {\n",
       "        vertical-align: middle;\n",
       "    }\n",
       "\n",
       "    .dataframe tbody tr th {\n",
       "        vertical-align: top;\n",
       "    }\n",
       "\n",
       "    .dataframe thead th {\n",
       "        text-align: right;\n",
       "    }\n",
       "</style>\n",
       "<table border=\"1\" class=\"dataframe\">\n",
       "  <thead>\n",
       "    <tr style=\"text-align: right;\">\n",
       "      <th></th>\n",
       "      <th>A</th>\n",
       "      <th>B</th>\n",
       "      <th>C</th>\n",
       "      <th>D</th>\n",
       "      <th>E</th>\n",
       "      <th>F</th>\n",
       "    </tr>\n",
       "  </thead>\n",
       "  <tbody>\n",
       "    <tr>\n",
       "      <th>0</th>\n",
       "      <td>1.0</td>\n",
       "      <td>2013-01-02</td>\n",
       "      <td>1.0</td>\n",
       "      <td>3</td>\n",
       "      <td>test</td>\n",
       "      <td>foo</td>\n",
       "    </tr>\n",
       "    <tr>\n",
       "      <th>1</th>\n",
       "      <td>1.0</td>\n",
       "      <td>2013-01-02</td>\n",
       "      <td>1.0</td>\n",
       "      <td>3</td>\n",
       "      <td>train</td>\n",
       "      <td>foo</td>\n",
       "    </tr>\n",
       "    <tr>\n",
       "      <th>2</th>\n",
       "      <td>1.0</td>\n",
       "      <td>2013-01-02</td>\n",
       "      <td>1.0</td>\n",
       "      <td>3</td>\n",
       "      <td>test</td>\n",
       "      <td>foo</td>\n",
       "    </tr>\n",
       "    <tr>\n",
       "      <th>3</th>\n",
       "      <td>1.0</td>\n",
       "      <td>2013-01-02</td>\n",
       "      <td>1.0</td>\n",
       "      <td>3</td>\n",
       "      <td>train</td>\n",
       "      <td>foo</td>\n",
       "    </tr>\n",
       "  </tbody>\n",
       "</table>\n",
       "</div>"
      ],
      "text/plain": [
       "     A          B    C  D      E    F\n",
       "0  1.0 2013-01-02  1.0  3   test  foo\n",
       "1  1.0 2013-01-02  1.0  3  train  foo\n",
       "2  1.0 2013-01-02  1.0  3   test  foo\n",
       "3  1.0 2013-01-02  1.0  3  train  foo"
      ]
     },
     "execution_count": 21,
     "metadata": {},
     "output_type": "execute_result"
    }
   ],
   "source": [
    "In [10]: df2"
   ]
  },
  {
   "cell_type": "code",
   "execution_count": null,
   "id": "5a037d7a-7a1b-497a-b90a-7aac46a57e0c",
   "metadata": {},
   "outputs": [],
   "source": []
  },
  {
   "cell_type": "code",
   "execution_count": null,
   "id": "229a8468-f7b2-4930-92cd-deded47e594e",
   "metadata": {},
   "outputs": [],
   "source": [
    "# 서로 다른 dtype"
   ]
  },
  {
   "cell_type": "code",
   "execution_count": 22,
   "id": "511faf9d-e1df-43da-a582-28fc474a4f35",
   "metadata": {},
   "outputs": [
    {
     "data": {
      "text/plain": [
       "A          float64\n",
       "B    datetime64[s]\n",
       "C          float32\n",
       "D            int32\n",
       "E         category\n",
       "F           object\n",
       "dtype: object"
      ]
     },
     "execution_count": 22,
     "metadata": {},
     "output_type": "execute_result"
    }
   ],
   "source": [
    "In [11]: df2.dtypes"
   ]
  },
  {
   "cell_type": "code",
   "execution_count": null,
   "id": "ba1c634a-8f17-4242-a784-b2c3e0cfd3f9",
   "metadata": {},
   "outputs": [],
   "source": []
  },
  {
   "cell_type": "code",
   "execution_count": null,
   "id": "ea59d5c3-6bdd-4ba2-80f6-450bc7beaf55",
   "metadata": {},
   "outputs": [],
   "source": [
    "# tab 자동완성"
   ]
  },
  {
   "cell_type": "code",
   "execution_count": null,
   "id": "778a783f-2f86-46d4-b0c6-1455c0b499c2",
   "metadata": {},
   "outputs": [],
   "source": [
    "In [12]: df2.<TAB>  # noqa: E225, E999\n",
    "df2.A                \n",
    "df2.abs                      \n",
    "df2.add\n",
    "df2.add_prefix\n",
    "df2.add_suffix\n",
    "df2.align\n",
    "df2.all\n",
    "df2.any\n",
    "df2.apply\n",
    "df2.applymap\n",
    "df2.B\n",
    "df2.bool\n",
    "df2.boxplot\n",
    "df2.C\n",
    "df2.clip\n",
    "df2.columns\n",
    "df2.copy\n",
    "df2.count\n",
    "df2.combine\n",
    "df2.D\n",
    "df2.describe\n",
    "df2.diff\n",
    "df2.duplicated\n",
    "                "
   ]
  },
  {
   "cell_type": "code",
   "execution_count": null,
   "id": "4116c88a-c753-4a3f-b587-b031ce2a0e27",
   "metadata": {},
   "outputs": [],
   "source": []
  },
  {
   "cell_type": "code",
   "execution_count": null,
   "id": "42c8d3d3-bdfe-4414-9d89-28d5d8c80624",
   "metadata": {},
   "outputs": [],
   "source": [
    "# 프레임 위쪽 아래쪽 행 확인"
   ]
  },
  {
   "cell_type": "code",
   "execution_count": 27,
   "id": "c752320e-ecc7-4ee0-9564-0f4775c13ad4",
   "metadata": {},
   "outputs": [
    {
     "data": {
      "text/html": [
       "<div>\n",
       "<style scoped>\n",
       "    .dataframe tbody tr th:only-of-type {\n",
       "        vertical-align: middle;\n",
       "    }\n",
       "\n",
       "    .dataframe tbody tr th {\n",
       "        vertical-align: top;\n",
       "    }\n",
       "\n",
       "    .dataframe thead th {\n",
       "        text-align: right;\n",
       "    }\n",
       "</style>\n",
       "<table border=\"1\" class=\"dataframe\">\n",
       "  <thead>\n",
       "    <tr style=\"text-align: right;\">\n",
       "      <th></th>\n",
       "      <th>A</th>\n",
       "      <th>B</th>\n",
       "      <th>C</th>\n",
       "      <th>D</th>\n",
       "    </tr>\n",
       "  </thead>\n",
       "  <tbody>\n",
       "    <tr>\n",
       "      <th>2013-01-01</th>\n",
       "      <td>-2.197240</td>\n",
       "      <td>0.129113</td>\n",
       "      <td>-0.988095</td>\n",
       "      <td>1.192026</td>\n",
       "    </tr>\n",
       "    <tr>\n",
       "      <th>2013-01-02</th>\n",
       "      <td>-0.038755</td>\n",
       "      <td>-1.283670</td>\n",
       "      <td>-1.999282</td>\n",
       "      <td>0.384007</td>\n",
       "    </tr>\n",
       "    <tr>\n",
       "      <th>2013-01-03</th>\n",
       "      <td>0.519579</td>\n",
       "      <td>-0.249360</td>\n",
       "      <td>-0.407249</td>\n",
       "      <td>0.431796</td>\n",
       "    </tr>\n",
       "    <tr>\n",
       "      <th>2013-01-04</th>\n",
       "      <td>0.974347</td>\n",
       "      <td>-0.528718</td>\n",
       "      <td>0.845390</td>\n",
       "      <td>-1.507097</td>\n",
       "    </tr>\n",
       "    <tr>\n",
       "      <th>2013-01-05</th>\n",
       "      <td>-0.961716</td>\n",
       "      <td>-0.135289</td>\n",
       "      <td>0.420836</td>\n",
       "      <td>1.773432</td>\n",
       "    </tr>\n",
       "  </tbody>\n",
       "</table>\n",
       "</div>"
      ],
      "text/plain": [
       "                   A         B         C         D\n",
       "2013-01-01 -2.197240  0.129113 -0.988095  1.192026\n",
       "2013-01-02 -0.038755 -1.283670 -1.999282  0.384007\n",
       "2013-01-03  0.519579 -0.249360 -0.407249  0.431796\n",
       "2013-01-04  0.974347 -0.528718  0.845390 -1.507097\n",
       "2013-01-05 -0.961716 -0.135289  0.420836  1.773432"
      ]
     },
     "execution_count": 27,
     "metadata": {},
     "output_type": "execute_result"
    }
   ],
   "source": [
    "In [13]: df.head()"
   ]
  },
  {
   "cell_type": "code",
   "execution_count": 28,
   "id": "b8f75201-d8bc-43b8-aead-57cac541e60c",
   "metadata": {},
   "outputs": [
    {
     "data": {
      "text/html": [
       "<div>\n",
       "<style scoped>\n",
       "    .dataframe tbody tr th:only-of-type {\n",
       "        vertical-align: middle;\n",
       "    }\n",
       "\n",
       "    .dataframe tbody tr th {\n",
       "        vertical-align: top;\n",
       "    }\n",
       "\n",
       "    .dataframe thead th {\n",
       "        text-align: right;\n",
       "    }\n",
       "</style>\n",
       "<table border=\"1\" class=\"dataframe\">\n",
       "  <thead>\n",
       "    <tr style=\"text-align: right;\">\n",
       "      <th></th>\n",
       "      <th>A</th>\n",
       "      <th>B</th>\n",
       "      <th>C</th>\n",
       "      <th>D</th>\n",
       "    </tr>\n",
       "  </thead>\n",
       "  <tbody>\n",
       "    <tr>\n",
       "      <th>2013-01-04</th>\n",
       "      <td>0.974347</td>\n",
       "      <td>-0.528718</td>\n",
       "      <td>0.845390</td>\n",
       "      <td>-1.507097</td>\n",
       "    </tr>\n",
       "    <tr>\n",
       "      <th>2013-01-05</th>\n",
       "      <td>-0.961716</td>\n",
       "      <td>-0.135289</td>\n",
       "      <td>0.420836</td>\n",
       "      <td>1.773432</td>\n",
       "    </tr>\n",
       "    <tr>\n",
       "      <th>2013-01-06</th>\n",
       "      <td>1.163448</td>\n",
       "      <td>0.609951</td>\n",
       "      <td>-0.697692</td>\n",
       "      <td>1.838430</td>\n",
       "    </tr>\n",
       "  </tbody>\n",
       "</table>\n",
       "</div>"
      ],
      "text/plain": [
       "                   A         B         C         D\n",
       "2013-01-04  0.974347 -0.528718  0.845390 -1.507097\n",
       "2013-01-05 -0.961716 -0.135289  0.420836  1.773432\n",
       "2013-01-06  1.163448  0.609951 -0.697692  1.838430"
      ]
     },
     "execution_count": 28,
     "metadata": {},
     "output_type": "execute_result"
    }
   ],
   "source": [
    "In [14]: df.tail(3)"
   ]
  },
  {
   "cell_type": "code",
   "execution_count": null,
   "id": "317e08ac-ca4d-476b-ab68-16ce92b30be1",
   "metadata": {},
   "outputs": [],
   "source": []
  },
  {
   "cell_type": "code",
   "execution_count": null,
   "id": "545d9957-3ca1-49d6-9177-b797e69934be",
   "metadata": {},
   "outputs": [],
   "source": [
    "# df.index / df.columns"
   ]
  },
  {
   "cell_type": "code",
   "execution_count": 30,
   "id": "b7775ab2-ff85-4987-b716-250a898a69f3",
   "metadata": {},
   "outputs": [
    {
     "data": {
      "text/plain": [
       "DatetimeIndex(['2013-01-01', '2013-01-02', '2013-01-03', '2013-01-04',\n",
       "               '2013-01-05', '2013-01-06'],\n",
       "              dtype='datetime64[ns]', freq='D')"
      ]
     },
     "execution_count": 30,
     "metadata": {},
     "output_type": "execute_result"
    }
   ],
   "source": [
    "In [15]: df.index"
   ]
  },
  {
   "cell_type": "code",
   "execution_count": 31,
   "id": "bff6a6b6-fe54-4bc3-b1d4-eb707f50f256",
   "metadata": {},
   "outputs": [
    {
     "data": {
      "text/plain": [
       "Index(['A', 'B', 'C', 'D'], dtype='object')"
      ]
     },
     "execution_count": 31,
     "metadata": {},
     "output_type": "execute_result"
    }
   ],
   "source": [
    "In [16]: df.columns"
   ]
  },
  {
   "cell_type": "code",
   "execution_count": null,
   "id": "4738d000-d341-4cae-92e6-0822ab19c892",
   "metadata": {},
   "outputs": [],
   "source": []
  },
  {
   "cell_type": "code",
   "execution_count": null,
   "id": "0deefd4b-c94c-47cd-887e-35fdbea2f555",
   "metadata": {},
   "outputs": [],
   "source": [
    "# df.tp_numpy() : index나 열 레이블 없는 기본 데이터의 numpy 표현"
   ]
  },
  {
   "cell_type": "code",
   "execution_count": 32,
   "id": "944333b9-9fd5-42f3-bfdf-4a662c4549c7",
   "metadata": {},
   "outputs": [
    {
     "data": {
      "text/plain": [
       "array([[-2.19724043,  0.12911283, -0.98809457,  1.19202552],\n",
       "       [-0.03875525, -1.28367029, -1.99928229,  0.38400651],\n",
       "       [ 0.51957884, -0.24935982, -0.40724896,  0.43179567],\n",
       "       [ 0.97434665, -0.52871796,  0.84538959, -1.50709701],\n",
       "       [-0.96171559, -0.13528923,  0.42083581,  1.77343192],\n",
       "       [ 1.16344847,  0.60995111, -0.6976919 ,  1.83843043]])"
      ]
     },
     "execution_count": 32,
     "metadata": {},
     "output_type": "execute_result"
    }
   ],
   "source": [
    "In [17]: df.to_numpy()"
   ]
  },
  {
   "cell_type": "code",
   "execution_count": null,
   "id": "3f522cef-7945-4ee4-84d5-873f2706fcfe",
   "metadata": {},
   "outputs": [],
   "source": []
  },
  {
   "cell_type": "code",
   "execution_count": null,
   "id": "acd4fb57-402d-4b10-b128-8196da12a350",
   "metadata": {},
   "outputs": [],
   "source": [
    "# Numpy 배열은 배열 전체에 하나의 dtype, Pandas df는 열당 하나의 dtype\n",
    "df.numpy  호출하면 pandas는 df의 모든 dtype을 보유할 수 있는 NumPy dtype을 찾음\n",
    "공통 데이터 유형이면 데이터를 복사해야 함."
   ]
  },
  {
   "cell_type": "code",
   "execution_count": 34,
   "id": "349308a6-5cee-40c3-a884-334e2a2b19ba",
   "metadata": {},
   "outputs": [
    {
     "data": {
      "text/plain": [
       "A          float64\n",
       "B    datetime64[s]\n",
       "C          float32\n",
       "D            int32\n",
       "E         category\n",
       "F           object\n",
       "dtype: object"
      ]
     },
     "execution_count": 34,
     "metadata": {},
     "output_type": "execute_result"
    }
   ],
   "source": [
    "In [18]: df2.dtypes"
   ]
  },
  {
   "cell_type": "code",
   "execution_count": 35,
   "id": "dd216da4-f997-4abf-a0d4-fdba321e0196",
   "metadata": {},
   "outputs": [
    {
     "data": {
      "text/plain": [
       "array([[1.0, Timestamp('2013-01-02 00:00:00'), 1.0, 3, 'test', 'foo'],\n",
       "       [1.0, Timestamp('2013-01-02 00:00:00'), 1.0, 3, 'train', 'foo'],\n",
       "       [1.0, Timestamp('2013-01-02 00:00:00'), 1.0, 3, 'test', 'foo'],\n",
       "       [1.0, Timestamp('2013-01-02 00:00:00'), 1.0, 3, 'train', 'foo']],\n",
       "      dtype=object)"
      ]
     },
     "execution_count": 35,
     "metadata": {},
     "output_type": "execute_result"
    }
   ],
   "source": [
    "In [19]: df2.to_numpy()"
   ]
  },
  {
   "cell_type": "code",
   "execution_count": null,
   "id": "804926ef-615a-4757-84f4-8da1a8dba8f7",
   "metadata": {},
   "outputs": [],
   "source": []
  },
  {
   "cell_type": "code",
   "execution_count": null,
   "id": "9389eb9f-1b28-4808-bb2a-ceb231131dba",
   "metadata": {},
   "outputs": [],
   "source": [
    "# df.describe() : 간단한 통계 요약"
   ]
  },
  {
   "cell_type": "code",
   "execution_count": 36,
   "id": "4a85602d-2c73-4fb4-982b-11fcf3ff5e1b",
   "metadata": {},
   "outputs": [
    {
     "data": {
      "text/html": [
       "<div>\n",
       "<style scoped>\n",
       "    .dataframe tbody tr th:only-of-type {\n",
       "        vertical-align: middle;\n",
       "    }\n",
       "\n",
       "    .dataframe tbody tr th {\n",
       "        vertical-align: top;\n",
       "    }\n",
       "\n",
       "    .dataframe thead th {\n",
       "        text-align: right;\n",
       "    }\n",
       "</style>\n",
       "<table border=\"1\" class=\"dataframe\">\n",
       "  <thead>\n",
       "    <tr style=\"text-align: right;\">\n",
       "      <th></th>\n",
       "      <th>A</th>\n",
       "      <th>B</th>\n",
       "      <th>C</th>\n",
       "      <th>D</th>\n",
       "    </tr>\n",
       "  </thead>\n",
       "  <tbody>\n",
       "    <tr>\n",
       "      <th>count</th>\n",
       "      <td>6.000000</td>\n",
       "      <td>6.000000</td>\n",
       "      <td>6.000000</td>\n",
       "      <td>6.000000</td>\n",
       "    </tr>\n",
       "    <tr>\n",
       "      <th>mean</th>\n",
       "      <td>-0.090056</td>\n",
       "      <td>-0.242996</td>\n",
       "      <td>-0.471015</td>\n",
       "      <td>0.685432</td>\n",
       "    </tr>\n",
       "    <tr>\n",
       "      <th>std</th>\n",
       "      <td>1.286742</td>\n",
       "      <td>0.639103</td>\n",
       "      <td>1.018503</td>\n",
       "      <td>1.243556</td>\n",
       "    </tr>\n",
       "    <tr>\n",
       "      <th>min</th>\n",
       "      <td>-2.197240</td>\n",
       "      <td>-1.283670</td>\n",
       "      <td>-1.999282</td>\n",
       "      <td>-1.507097</td>\n",
       "    </tr>\n",
       "    <tr>\n",
       "      <th>25%</th>\n",
       "      <td>-0.730976</td>\n",
       "      <td>-0.458878</td>\n",
       "      <td>-0.915494</td>\n",
       "      <td>0.395954</td>\n",
       "    </tr>\n",
       "    <tr>\n",
       "      <th>50%</th>\n",
       "      <td>0.240412</td>\n",
       "      <td>-0.192325</td>\n",
       "      <td>-0.552470</td>\n",
       "      <td>0.811911</td>\n",
       "    </tr>\n",
       "    <tr>\n",
       "      <th>75%</th>\n",
       "      <td>0.860655</td>\n",
       "      <td>0.063012</td>\n",
       "      <td>0.213815</td>\n",
       "      <td>1.628080</td>\n",
       "    </tr>\n",
       "    <tr>\n",
       "      <th>max</th>\n",
       "      <td>1.163448</td>\n",
       "      <td>0.609951</td>\n",
       "      <td>0.845390</td>\n",
       "      <td>1.838430</td>\n",
       "    </tr>\n",
       "  </tbody>\n",
       "</table>\n",
       "</div>"
      ],
      "text/plain": [
       "              A         B         C         D\n",
       "count  6.000000  6.000000  6.000000  6.000000\n",
       "mean  -0.090056 -0.242996 -0.471015  0.685432\n",
       "std    1.286742  0.639103  1.018503  1.243556\n",
       "min   -2.197240 -1.283670 -1.999282 -1.507097\n",
       "25%   -0.730976 -0.458878 -0.915494  0.395954\n",
       "50%    0.240412 -0.192325 -0.552470  0.811911\n",
       "75%    0.860655  0.063012  0.213815  1.628080\n",
       "max    1.163448  0.609951  0.845390  1.838430"
      ]
     },
     "execution_count": 36,
     "metadata": {},
     "output_type": "execute_result"
    }
   ],
   "source": [
    "In [20]: df.describe()"
   ]
  },
  {
   "cell_type": "code",
   "execution_count": null,
   "id": "67fdd5a9-ed17-4e6f-a176-5efb3cd5bb6f",
   "metadata": {},
   "outputs": [],
   "source": []
  },
  {
   "cell_type": "code",
   "execution_count": null,
   "id": "b6025ac7-edb4-4fc2-9987-7728b5c0256c",
   "metadata": {},
   "outputs": [],
   "source": [
    "# df.T : 데이터 transposing"
   ]
  },
  {
   "cell_type": "code",
   "execution_count": 37,
   "id": "c0e1e87b-c0ab-4656-a247-8c42e4a275ec",
   "metadata": {},
   "outputs": [
    {
     "data": {
      "text/html": [
       "<div>\n",
       "<style scoped>\n",
       "    .dataframe tbody tr th:only-of-type {\n",
       "        vertical-align: middle;\n",
       "    }\n",
       "\n",
       "    .dataframe tbody tr th {\n",
       "        vertical-align: top;\n",
       "    }\n",
       "\n",
       "    .dataframe thead th {\n",
       "        text-align: right;\n",
       "    }\n",
       "</style>\n",
       "<table border=\"1\" class=\"dataframe\">\n",
       "  <thead>\n",
       "    <tr style=\"text-align: right;\">\n",
       "      <th></th>\n",
       "      <th>2013-01-01</th>\n",
       "      <th>2013-01-02</th>\n",
       "      <th>2013-01-03</th>\n",
       "      <th>2013-01-04</th>\n",
       "      <th>2013-01-05</th>\n",
       "      <th>2013-01-06</th>\n",
       "    </tr>\n",
       "  </thead>\n",
       "  <tbody>\n",
       "    <tr>\n",
       "      <th>A</th>\n",
       "      <td>-2.197240</td>\n",
       "      <td>-0.038755</td>\n",
       "      <td>0.519579</td>\n",
       "      <td>0.974347</td>\n",
       "      <td>-0.961716</td>\n",
       "      <td>1.163448</td>\n",
       "    </tr>\n",
       "    <tr>\n",
       "      <th>B</th>\n",
       "      <td>0.129113</td>\n",
       "      <td>-1.283670</td>\n",
       "      <td>-0.249360</td>\n",
       "      <td>-0.528718</td>\n",
       "      <td>-0.135289</td>\n",
       "      <td>0.609951</td>\n",
       "    </tr>\n",
       "    <tr>\n",
       "      <th>C</th>\n",
       "      <td>-0.988095</td>\n",
       "      <td>-1.999282</td>\n",
       "      <td>-0.407249</td>\n",
       "      <td>0.845390</td>\n",
       "      <td>0.420836</td>\n",
       "      <td>-0.697692</td>\n",
       "    </tr>\n",
       "    <tr>\n",
       "      <th>D</th>\n",
       "      <td>1.192026</td>\n",
       "      <td>0.384007</td>\n",
       "      <td>0.431796</td>\n",
       "      <td>-1.507097</td>\n",
       "      <td>1.773432</td>\n",
       "      <td>1.838430</td>\n",
       "    </tr>\n",
       "  </tbody>\n",
       "</table>\n",
       "</div>"
      ],
      "text/plain": [
       "   2013-01-01  2013-01-02  2013-01-03  2013-01-04  2013-01-05  2013-01-06\n",
       "A   -2.197240   -0.038755    0.519579    0.974347   -0.961716    1.163448\n",
       "B    0.129113   -1.283670   -0.249360   -0.528718   -0.135289    0.609951\n",
       "C   -0.988095   -1.999282   -0.407249    0.845390    0.420836   -0.697692\n",
       "D    1.192026    0.384007    0.431796   -1.507097    1.773432    1.838430"
      ]
     },
     "execution_count": 37,
     "metadata": {},
     "output_type": "execute_result"
    }
   ],
   "source": [
    "In [21]: df.T"
   ]
  },
  {
   "cell_type": "code",
   "execution_count": null,
   "id": "7cdfdb0e-6875-43c3-83b7-c24ae8da02a1",
   "metadata": {},
   "outputs": [],
   "source": []
  },
  {
   "cell_type": "code",
   "execution_count": null,
   "id": "a165d8b8-53a4-48f2-93eb-10b58f15d80a",
   "metadata": {},
   "outputs": [],
   "source": [
    "# df.sort_index() : 축에 따라 정렬\n",
    "axis : 값 0은 행을 식별, 1은 열을 식별"
   ]
  },
  {
   "cell_type": "code",
   "execution_count": 38,
   "id": "96768995-96b6-473b-9574-e945cd6286d1",
   "metadata": {},
   "outputs": [
    {
     "data": {
      "text/html": [
       "<div>\n",
       "<style scoped>\n",
       "    .dataframe tbody tr th:only-of-type {\n",
       "        vertical-align: middle;\n",
       "    }\n",
       "\n",
       "    .dataframe tbody tr th {\n",
       "        vertical-align: top;\n",
       "    }\n",
       "\n",
       "    .dataframe thead th {\n",
       "        text-align: right;\n",
       "    }\n",
       "</style>\n",
       "<table border=\"1\" class=\"dataframe\">\n",
       "  <thead>\n",
       "    <tr style=\"text-align: right;\">\n",
       "      <th></th>\n",
       "      <th>D</th>\n",
       "      <th>C</th>\n",
       "      <th>B</th>\n",
       "      <th>A</th>\n",
       "    </tr>\n",
       "  </thead>\n",
       "  <tbody>\n",
       "    <tr>\n",
       "      <th>2013-01-01</th>\n",
       "      <td>1.192026</td>\n",
       "      <td>-0.988095</td>\n",
       "      <td>0.129113</td>\n",
       "      <td>-2.197240</td>\n",
       "    </tr>\n",
       "    <tr>\n",
       "      <th>2013-01-02</th>\n",
       "      <td>0.384007</td>\n",
       "      <td>-1.999282</td>\n",
       "      <td>-1.283670</td>\n",
       "      <td>-0.038755</td>\n",
       "    </tr>\n",
       "    <tr>\n",
       "      <th>2013-01-03</th>\n",
       "      <td>0.431796</td>\n",
       "      <td>-0.407249</td>\n",
       "      <td>-0.249360</td>\n",
       "      <td>0.519579</td>\n",
       "    </tr>\n",
       "    <tr>\n",
       "      <th>2013-01-04</th>\n",
       "      <td>-1.507097</td>\n",
       "      <td>0.845390</td>\n",
       "      <td>-0.528718</td>\n",
       "      <td>0.974347</td>\n",
       "    </tr>\n",
       "    <tr>\n",
       "      <th>2013-01-05</th>\n",
       "      <td>1.773432</td>\n",
       "      <td>0.420836</td>\n",
       "      <td>-0.135289</td>\n",
       "      <td>-0.961716</td>\n",
       "    </tr>\n",
       "    <tr>\n",
       "      <th>2013-01-06</th>\n",
       "      <td>1.838430</td>\n",
       "      <td>-0.697692</td>\n",
       "      <td>0.609951</td>\n",
       "      <td>1.163448</td>\n",
       "    </tr>\n",
       "  </tbody>\n",
       "</table>\n",
       "</div>"
      ],
      "text/plain": [
       "                   D         C         B         A\n",
       "2013-01-01  1.192026 -0.988095  0.129113 -2.197240\n",
       "2013-01-02  0.384007 -1.999282 -1.283670 -0.038755\n",
       "2013-01-03  0.431796 -0.407249 -0.249360  0.519579\n",
       "2013-01-04 -1.507097  0.845390 -0.528718  0.974347\n",
       "2013-01-05  1.773432  0.420836 -0.135289 -0.961716\n",
       "2013-01-06  1.838430 -0.697692  0.609951  1.163448"
      ]
     },
     "execution_count": 38,
     "metadata": {},
     "output_type": "execute_result"
    }
   ],
   "source": [
    "In [22]: df.sort_index(axis=1, ascending=False)"
   ]
  },
  {
   "cell_type": "code",
   "execution_count": null,
   "id": "e33a83ca-8f8e-40f9-84a0-0833bc7acbe1",
   "metadata": {},
   "outputs": [],
   "source": []
  },
  {
   "cell_type": "code",
   "execution_count": null,
   "id": "f06bea61-3b93-4d9b-aae6-0002faff5704",
   "metadata": {},
   "outputs": [],
   "source": [
    "# df.sort_values() : 값에 따라 정렬"
   ]
  },
  {
   "cell_type": "code",
   "execution_count": 39,
   "id": "6aa1bf67-4461-4d40-8e57-d6c41c691174",
   "metadata": {},
   "outputs": [
    {
     "data": {
      "text/html": [
       "<div>\n",
       "<style scoped>\n",
       "    .dataframe tbody tr th:only-of-type {\n",
       "        vertical-align: middle;\n",
       "    }\n",
       "\n",
       "    .dataframe tbody tr th {\n",
       "        vertical-align: top;\n",
       "    }\n",
       "\n",
       "    .dataframe thead th {\n",
       "        text-align: right;\n",
       "    }\n",
       "</style>\n",
       "<table border=\"1\" class=\"dataframe\">\n",
       "  <thead>\n",
       "    <tr style=\"text-align: right;\">\n",
       "      <th></th>\n",
       "      <th>A</th>\n",
       "      <th>B</th>\n",
       "      <th>C</th>\n",
       "      <th>D</th>\n",
       "    </tr>\n",
       "  </thead>\n",
       "  <tbody>\n",
       "    <tr>\n",
       "      <th>2013-01-02</th>\n",
       "      <td>-0.038755</td>\n",
       "      <td>-1.283670</td>\n",
       "      <td>-1.999282</td>\n",
       "      <td>0.384007</td>\n",
       "    </tr>\n",
       "    <tr>\n",
       "      <th>2013-01-04</th>\n",
       "      <td>0.974347</td>\n",
       "      <td>-0.528718</td>\n",
       "      <td>0.845390</td>\n",
       "      <td>-1.507097</td>\n",
       "    </tr>\n",
       "    <tr>\n",
       "      <th>2013-01-03</th>\n",
       "      <td>0.519579</td>\n",
       "      <td>-0.249360</td>\n",
       "      <td>-0.407249</td>\n",
       "      <td>0.431796</td>\n",
       "    </tr>\n",
       "    <tr>\n",
       "      <th>2013-01-05</th>\n",
       "      <td>-0.961716</td>\n",
       "      <td>-0.135289</td>\n",
       "      <td>0.420836</td>\n",
       "      <td>1.773432</td>\n",
       "    </tr>\n",
       "    <tr>\n",
       "      <th>2013-01-01</th>\n",
       "      <td>-2.197240</td>\n",
       "      <td>0.129113</td>\n",
       "      <td>-0.988095</td>\n",
       "      <td>1.192026</td>\n",
       "    </tr>\n",
       "    <tr>\n",
       "      <th>2013-01-06</th>\n",
       "      <td>1.163448</td>\n",
       "      <td>0.609951</td>\n",
       "      <td>-0.697692</td>\n",
       "      <td>1.838430</td>\n",
       "    </tr>\n",
       "  </tbody>\n",
       "</table>\n",
       "</div>"
      ],
      "text/plain": [
       "                   A         B         C         D\n",
       "2013-01-02 -0.038755 -1.283670 -1.999282  0.384007\n",
       "2013-01-04  0.974347 -0.528718  0.845390 -1.507097\n",
       "2013-01-03  0.519579 -0.249360 -0.407249  0.431796\n",
       "2013-01-05 -0.961716 -0.135289  0.420836  1.773432\n",
       "2013-01-01 -2.197240  0.129113 -0.988095  1.192026\n",
       "2013-01-06  1.163448  0.609951 -0.697692  1.838430"
      ]
     },
     "execution_count": 39,
     "metadata": {},
     "output_type": "execute_result"
    }
   ],
   "source": [
    "In [23]: df.sort_values(by=\"B\")"
   ]
  },
  {
   "cell_type": "code",
   "execution_count": null,
   "id": "bde1eb47-d2fd-4719-a63f-cc1d54ebc6bb",
   "metadata": {},
   "outputs": [],
   "source": []
  },
  {
   "cell_type": "code",
   "execution_count": null,
   "id": "4a809c43-8905-4bae-9a8c-cda7b11c025a",
   "metadata": {},
   "outputs": [],
   "source": [
    "# 단일 레이블을 통과하면 열이 선택, df에 해당하는 시리즈가 생성"
   ]
  },
  {
   "cell_type": "code",
   "execution_count": 40,
   "id": "7a3c757d-d147-4b90-bac4-af07afb61d22",
   "metadata": {},
   "outputs": [
    {
     "data": {
      "text/plain": [
       "2013-01-01   -2.197240\n",
       "2013-01-02   -0.038755\n",
       "2013-01-03    0.519579\n",
       "2013-01-04    0.974347\n",
       "2013-01-05   -0.961716\n",
       "2013-01-06    1.163448\n",
       "Freq: D, Name: A, dtype: float64"
      ]
     },
     "execution_count": 40,
     "metadata": {},
     "output_type": "execute_result"
    }
   ],
   "source": [
    "In [24]: df[\"A\"]"
   ]
  },
  {
   "cell_type": "code",
   "execution_count": null,
   "id": "8a2e2212-0654-4066-83f8-0ed621c16274",
   "metadata": {},
   "outputs": [],
   "source": []
  },
  {
   "cell_type": "code",
   "execution_count": 41,
   "id": "6665c3c2-603b-44c5-951d-1c7b88362143",
   "metadata": {},
   "outputs": [
    {
     "data": {
      "text/html": [
       "<div>\n",
       "<style scoped>\n",
       "    .dataframe tbody tr th:only-of-type {\n",
       "        vertical-align: middle;\n",
       "    }\n",
       "\n",
       "    .dataframe tbody tr th {\n",
       "        vertical-align: top;\n",
       "    }\n",
       "\n",
       "    .dataframe thead th {\n",
       "        text-align: right;\n",
       "    }\n",
       "</style>\n",
       "<table border=\"1\" class=\"dataframe\">\n",
       "  <thead>\n",
       "    <tr style=\"text-align: right;\">\n",
       "      <th></th>\n",
       "      <th>A</th>\n",
       "      <th>B</th>\n",
       "      <th>C</th>\n",
       "      <th>D</th>\n",
       "    </tr>\n",
       "  </thead>\n",
       "  <tbody>\n",
       "    <tr>\n",
       "      <th>2013-01-01</th>\n",
       "      <td>-2.197240</td>\n",
       "      <td>0.129113</td>\n",
       "      <td>-0.988095</td>\n",
       "      <td>1.192026</td>\n",
       "    </tr>\n",
       "    <tr>\n",
       "      <th>2013-01-02</th>\n",
       "      <td>-0.038755</td>\n",
       "      <td>-1.283670</td>\n",
       "      <td>-1.999282</td>\n",
       "      <td>0.384007</td>\n",
       "    </tr>\n",
       "    <tr>\n",
       "      <th>2013-01-03</th>\n",
       "      <td>0.519579</td>\n",
       "      <td>-0.249360</td>\n",
       "      <td>-0.407249</td>\n",
       "      <td>0.431796</td>\n",
       "    </tr>\n",
       "  </tbody>\n",
       "</table>\n",
       "</div>"
      ],
      "text/plain": [
       "                   A         B         C         D\n",
       "2013-01-01 -2.197240  0.129113 -0.988095  1.192026\n",
       "2013-01-02 -0.038755 -1.283670 -1.999282  0.384007\n",
       "2013-01-03  0.519579 -0.249360 -0.407249  0.431796"
      ]
     },
     "execution_count": 41,
     "metadata": {},
     "output_type": "execute_result"
    }
   ],
   "source": [
    "In [25]: df[0:3]"
   ]
  },
  {
   "cell_type": "code",
   "execution_count": 43,
   "id": "a0e06a84-61bc-490c-89bd-85eae51b2b9b",
   "metadata": {},
   "outputs": [
    {
     "data": {
      "text/html": [
       "<div>\n",
       "<style scoped>\n",
       "    .dataframe tbody tr th:only-of-type {\n",
       "        vertical-align: middle;\n",
       "    }\n",
       "\n",
       "    .dataframe tbody tr th {\n",
       "        vertical-align: top;\n",
       "    }\n",
       "\n",
       "    .dataframe thead th {\n",
       "        text-align: right;\n",
       "    }\n",
       "</style>\n",
       "<table border=\"1\" class=\"dataframe\">\n",
       "  <thead>\n",
       "    <tr style=\"text-align: right;\">\n",
       "      <th></th>\n",
       "      <th>A</th>\n",
       "      <th>B</th>\n",
       "      <th>C</th>\n",
       "      <th>D</th>\n",
       "    </tr>\n",
       "  </thead>\n",
       "  <tbody>\n",
       "    <tr>\n",
       "      <th>2013-01-02</th>\n",
       "      <td>-0.038755</td>\n",
       "      <td>-1.283670</td>\n",
       "      <td>-1.999282</td>\n",
       "      <td>0.384007</td>\n",
       "    </tr>\n",
       "    <tr>\n",
       "      <th>2013-01-03</th>\n",
       "      <td>0.519579</td>\n",
       "      <td>-0.249360</td>\n",
       "      <td>-0.407249</td>\n",
       "      <td>0.431796</td>\n",
       "    </tr>\n",
       "    <tr>\n",
       "      <th>2013-01-04</th>\n",
       "      <td>0.974347</td>\n",
       "      <td>-0.528718</td>\n",
       "      <td>0.845390</td>\n",
       "      <td>-1.507097</td>\n",
       "    </tr>\n",
       "  </tbody>\n",
       "</table>\n",
       "</div>"
      ],
      "text/plain": [
       "                   A         B         C         D\n",
       "2013-01-02 -0.038755 -1.283670 -1.999282  0.384007\n",
       "2013-01-03  0.519579 -0.249360 -0.407249  0.431796\n",
       "2013-01-04  0.974347 -0.528718  0.845390 -1.507097"
      ]
     },
     "execution_count": 43,
     "metadata": {},
     "output_type": "execute_result"
    }
   ],
   "source": [
    "In [26]: df[\"20130102\":\"20130104\"]"
   ]
  },
  {
   "cell_type": "code",
   "execution_count": null,
   "id": "870c78c5-1be1-4b14-8864-eff0822bf416",
   "metadata": {},
   "outputs": [],
   "source": []
  },
  {
   "cell_type": "code",
   "execution_count": null,
   "id": "46c71d4d-77ef-489a-ac95-43b577c5e06a",
   "metadata": {},
   "outputs": [],
   "source": [
    "# 라벨과 일치하는 행 선택"
   ]
  },
  {
   "cell_type": "code",
   "execution_count": 44,
   "id": "0ed115a3-4b9b-42eb-8a35-90a2db08c568",
   "metadata": {},
   "outputs": [
    {
     "data": {
      "text/plain": [
       "A   -2.197240\n",
       "B    0.129113\n",
       "C   -0.988095\n",
       "D    1.192026\n",
       "Name: 2013-01-01 00:00:00, dtype: float64"
      ]
     },
     "execution_count": 44,
     "metadata": {},
     "output_type": "execute_result"
    }
   ],
   "source": [
    "In [27]: df.loc[dates[0]]"
   ]
  },
  {
   "cell_type": "code",
   "execution_count": null,
   "id": "c68dc0b1-1526-48ef-94b3-578b6cccd8db",
   "metadata": {},
   "outputs": [],
   "source": [
    "# 선택된 열 레이블이 있는 모든 행 선택"
   ]
  },
  {
   "cell_type": "code",
   "execution_count": 45,
   "id": "0dd8c3a8-60f5-4086-bc23-2ec9b614f260",
   "metadata": {},
   "outputs": [
    {
     "data": {
      "text/html": [
       "<div>\n",
       "<style scoped>\n",
       "    .dataframe tbody tr th:only-of-type {\n",
       "        vertical-align: middle;\n",
       "    }\n",
       "\n",
       "    .dataframe tbody tr th {\n",
       "        vertical-align: top;\n",
       "    }\n",
       "\n",
       "    .dataframe thead th {\n",
       "        text-align: right;\n",
       "    }\n",
       "</style>\n",
       "<table border=\"1\" class=\"dataframe\">\n",
       "  <thead>\n",
       "    <tr style=\"text-align: right;\">\n",
       "      <th></th>\n",
       "      <th>A</th>\n",
       "      <th>B</th>\n",
       "    </tr>\n",
       "  </thead>\n",
       "  <tbody>\n",
       "    <tr>\n",
       "      <th>2013-01-01</th>\n",
       "      <td>-2.197240</td>\n",
       "      <td>0.129113</td>\n",
       "    </tr>\n",
       "    <tr>\n",
       "      <th>2013-01-02</th>\n",
       "      <td>-0.038755</td>\n",
       "      <td>-1.283670</td>\n",
       "    </tr>\n",
       "    <tr>\n",
       "      <th>2013-01-03</th>\n",
       "      <td>0.519579</td>\n",
       "      <td>-0.249360</td>\n",
       "    </tr>\n",
       "    <tr>\n",
       "      <th>2013-01-04</th>\n",
       "      <td>0.974347</td>\n",
       "      <td>-0.528718</td>\n",
       "    </tr>\n",
       "    <tr>\n",
       "      <th>2013-01-05</th>\n",
       "      <td>-0.961716</td>\n",
       "      <td>-0.135289</td>\n",
       "    </tr>\n",
       "    <tr>\n",
       "      <th>2013-01-06</th>\n",
       "      <td>1.163448</td>\n",
       "      <td>0.609951</td>\n",
       "    </tr>\n",
       "  </tbody>\n",
       "</table>\n",
       "</div>"
      ],
      "text/plain": [
       "                   A         B\n",
       "2013-01-01 -2.197240  0.129113\n",
       "2013-01-02 -0.038755 -1.283670\n",
       "2013-01-03  0.519579 -0.249360\n",
       "2013-01-04  0.974347 -0.528718\n",
       "2013-01-05 -0.961716 -0.135289\n",
       "2013-01-06  1.163448  0.609951"
      ]
     },
     "execution_count": 45,
     "metadata": {},
     "output_type": "execute_result"
    }
   ],
   "source": [
    "In [28]: df.loc[:, [\"A\",\"B\"]]"
   ]
  },
  {
   "cell_type": "code",
   "execution_count": null,
   "id": "529932e6-4d4d-4ae4-82bc-97e01d81ef79",
   "metadata": {},
   "outputs": [],
   "source": []
  },
  {
   "cell_type": "code",
   "execution_count": 46,
   "id": "118b55a1-ccf9-44d7-a6fd-e088903f9016",
   "metadata": {},
   "outputs": [
    {
     "data": {
      "text/html": [
       "<div>\n",
       "<style scoped>\n",
       "    .dataframe tbody tr th:only-of-type {\n",
       "        vertical-align: middle;\n",
       "    }\n",
       "\n",
       "    .dataframe tbody tr th {\n",
       "        vertical-align: top;\n",
       "    }\n",
       "\n",
       "    .dataframe thead th {\n",
       "        text-align: right;\n",
       "    }\n",
       "</style>\n",
       "<table border=\"1\" class=\"dataframe\">\n",
       "  <thead>\n",
       "    <tr style=\"text-align: right;\">\n",
       "      <th></th>\n",
       "      <th>A</th>\n",
       "      <th>B</th>\n",
       "    </tr>\n",
       "  </thead>\n",
       "  <tbody>\n",
       "    <tr>\n",
       "      <th>2013-01-02</th>\n",
       "      <td>-0.038755</td>\n",
       "      <td>-1.283670</td>\n",
       "    </tr>\n",
       "    <tr>\n",
       "      <th>2013-01-03</th>\n",
       "      <td>0.519579</td>\n",
       "      <td>-0.249360</td>\n",
       "    </tr>\n",
       "    <tr>\n",
       "      <th>2013-01-04</th>\n",
       "      <td>0.974347</td>\n",
       "      <td>-0.528718</td>\n",
       "    </tr>\n",
       "  </tbody>\n",
       "</table>\n",
       "</div>"
      ],
      "text/plain": [
       "                   A         B\n",
       "2013-01-02 -0.038755 -1.283670\n",
       "2013-01-03  0.519579 -0.249360\n",
       "2013-01-04  0.974347 -0.528718"
      ]
     },
     "execution_count": 46,
     "metadata": {},
     "output_type": "execute_result"
    }
   ],
   "source": [
    "In [29]: df.loc[\"20130102\":\"20130104\", [\"A\", \"B\"]]"
   ]
  },
  {
   "cell_type": "code",
   "execution_count": null,
   "id": "30cf0816-2158-4c23-8164-d349c8d51a9f",
   "metadata": {},
   "outputs": [],
   "source": []
  },
  {
   "cell_type": "code",
   "execution_count": null,
   "id": "e7621666-a1ca-4599-82d5-dbccf14d6dae",
   "metadata": {},
   "outputs": [],
   "source": [
    "# 단일 행과 열 레이블 선책하면 스칼라 반환"
   ]
  },
  {
   "cell_type": "code",
   "execution_count": 47,
   "id": "de2356e5-2406-4070-9bf6-dcce0082eee8",
   "metadata": {},
   "outputs": [
    {
     "data": {
      "text/plain": [
       "np.float64(-2.197240433020668)"
      ]
     },
     "execution_count": 47,
     "metadata": {},
     "output_type": "execute_result"
    }
   ],
   "source": [
    "In [30]: df.loc[dates[0], \"A\"]"
   ]
  },
  {
   "cell_type": "code",
   "execution_count": null,
   "id": "905437e0-a0bb-45f6-82d9-2a8cff1e577a",
   "metadata": {},
   "outputs": [],
   "source": [
    "# 스칼라에 빠르게 접근"
   ]
  },
  {
   "cell_type": "code",
   "execution_count": 48,
   "id": "13fc22c8-e59c-4488-820c-d5e8dbb5bd9f",
   "metadata": {},
   "outputs": [
    {
     "data": {
      "text/plain": [
       "np.float64(-2.197240433020668)"
      ]
     },
     "execution_count": 48,
     "metadata": {},
     "output_type": "execute_result"
    }
   ],
   "source": [
    "In [31]: df.at[dates[0], \"A\"]"
   ]
  },
  {
   "cell_type": "code",
   "execution_count": null,
   "id": "2529d714-c277-4b1c-bc64-f690d62973b4",
   "metadata": {},
   "outputs": [],
   "source": []
  },
  {
   "cell_type": "code",
   "execution_count": null,
   "id": "9c833bec-38e8-4aba-8693-48a66dced6db",
   "metadata": {},
   "outputs": [],
   "source": [
    "# DataFrame.iloc[row_index, column_index]"
   ]
  },
  {
   "cell_type": "code",
   "execution_count": 49,
   "id": "819cacee-d5be-4ef2-ac27-3721e6a5b736",
   "metadata": {},
   "outputs": [
    {
     "data": {
      "text/plain": [
       "A    0.974347\n",
       "B   -0.528718\n",
       "C    0.845390\n",
       "D   -1.507097\n",
       "Name: 2013-01-04 00:00:00, dtype: float64"
      ]
     },
     "execution_count": 49,
     "metadata": {},
     "output_type": "execute_result"
    }
   ],
   "source": [
    "In [32]: df.iloc[3]"
   ]
  },
  {
   "cell_type": "code",
   "execution_count": 50,
   "id": "58a3b7ea-a742-4722-a385-8be36736cefb",
   "metadata": {},
   "outputs": [
    {
     "data": {
      "text/html": [
       "<div>\n",
       "<style scoped>\n",
       "    .dataframe tbody tr th:only-of-type {\n",
       "        vertical-align: middle;\n",
       "    }\n",
       "\n",
       "    .dataframe tbody tr th {\n",
       "        vertical-align: top;\n",
       "    }\n",
       "\n",
       "    .dataframe thead th {\n",
       "        text-align: right;\n",
       "    }\n",
       "</style>\n",
       "<table border=\"1\" class=\"dataframe\">\n",
       "  <thead>\n",
       "    <tr style=\"text-align: right;\">\n",
       "      <th></th>\n",
       "      <th>A</th>\n",
       "      <th>B</th>\n",
       "    </tr>\n",
       "  </thead>\n",
       "  <tbody>\n",
       "    <tr>\n",
       "      <th>2013-01-04</th>\n",
       "      <td>0.974347</td>\n",
       "      <td>-0.528718</td>\n",
       "    </tr>\n",
       "    <tr>\n",
       "      <th>2013-01-05</th>\n",
       "      <td>-0.961716</td>\n",
       "      <td>-0.135289</td>\n",
       "    </tr>\n",
       "  </tbody>\n",
       "</table>\n",
       "</div>"
      ],
      "text/plain": [
       "                   A         B\n",
       "2013-01-04  0.974347 -0.528718\n",
       "2013-01-05 -0.961716 -0.135289"
      ]
     },
     "execution_count": 50,
     "metadata": {},
     "output_type": "execute_result"
    }
   ],
   "source": [
    "In [33]: df.iloc[3:5, 0:2]"
   ]
  },
  {
   "cell_type": "code",
   "execution_count": 51,
   "id": "9f803670-100d-4cc4-84b5-abf2ca506639",
   "metadata": {},
   "outputs": [
    {
     "data": {
      "text/html": [
       "<div>\n",
       "<style scoped>\n",
       "    .dataframe tbody tr th:only-of-type {\n",
       "        vertical-align: middle;\n",
       "    }\n",
       "\n",
       "    .dataframe tbody tr th {\n",
       "        vertical-align: top;\n",
       "    }\n",
       "\n",
       "    .dataframe thead th {\n",
       "        text-align: right;\n",
       "    }\n",
       "</style>\n",
       "<table border=\"1\" class=\"dataframe\">\n",
       "  <thead>\n",
       "    <tr style=\"text-align: right;\">\n",
       "      <th></th>\n",
       "      <th>A</th>\n",
       "      <th>C</th>\n",
       "    </tr>\n",
       "  </thead>\n",
       "  <tbody>\n",
       "    <tr>\n",
       "      <th>2013-01-02</th>\n",
       "      <td>-0.038755</td>\n",
       "      <td>-1.999282</td>\n",
       "    </tr>\n",
       "    <tr>\n",
       "      <th>2013-01-03</th>\n",
       "      <td>0.519579</td>\n",
       "      <td>-0.407249</td>\n",
       "    </tr>\n",
       "    <tr>\n",
       "      <th>2013-01-05</th>\n",
       "      <td>-0.961716</td>\n",
       "      <td>0.420836</td>\n",
       "    </tr>\n",
       "  </tbody>\n",
       "</table>\n",
       "</div>"
      ],
      "text/plain": [
       "                   A         C\n",
       "2013-01-02 -0.038755 -1.999282\n",
       "2013-01-03  0.519579 -0.407249\n",
       "2013-01-05 -0.961716  0.420836"
      ]
     },
     "execution_count": 51,
     "metadata": {},
     "output_type": "execute_result"
    }
   ],
   "source": [
    "In [34]: df.iloc[[1, 2, 4], [0, 2]]"
   ]
  },
  {
   "cell_type": "code",
   "execution_count": 52,
   "id": "4eb43e47-660a-4e4c-bd68-9dcd0cc4e6b1",
   "metadata": {},
   "outputs": [
    {
     "data": {
      "text/html": [
       "<div>\n",
       "<style scoped>\n",
       "    .dataframe tbody tr th:only-of-type {\n",
       "        vertical-align: middle;\n",
       "    }\n",
       "\n",
       "    .dataframe tbody tr th {\n",
       "        vertical-align: top;\n",
       "    }\n",
       "\n",
       "    .dataframe thead th {\n",
       "        text-align: right;\n",
       "    }\n",
       "</style>\n",
       "<table border=\"1\" class=\"dataframe\">\n",
       "  <thead>\n",
       "    <tr style=\"text-align: right;\">\n",
       "      <th></th>\n",
       "      <th>A</th>\n",
       "      <th>B</th>\n",
       "      <th>C</th>\n",
       "      <th>D</th>\n",
       "    </tr>\n",
       "  </thead>\n",
       "  <tbody>\n",
       "    <tr>\n",
       "      <th>2013-01-02</th>\n",
       "      <td>-0.038755</td>\n",
       "      <td>-1.28367</td>\n",
       "      <td>-1.999282</td>\n",
       "      <td>0.384007</td>\n",
       "    </tr>\n",
       "    <tr>\n",
       "      <th>2013-01-03</th>\n",
       "      <td>0.519579</td>\n",
       "      <td>-0.24936</td>\n",
       "      <td>-0.407249</td>\n",
       "      <td>0.431796</td>\n",
       "    </tr>\n",
       "  </tbody>\n",
       "</table>\n",
       "</div>"
      ],
      "text/plain": [
       "                   A        B         C         D\n",
       "2013-01-02 -0.038755 -1.28367 -1.999282  0.384007\n",
       "2013-01-03  0.519579 -0.24936 -0.407249  0.431796"
      ]
     },
     "execution_count": 52,
     "metadata": {},
     "output_type": "execute_result"
    }
   ],
   "source": [
    "In [35]: df.iloc[1:3, :]"
   ]
  },
  {
   "cell_type": "code",
   "execution_count": 53,
   "id": "c6d9cb5d-39e8-4578-a44d-f98694eefc53",
   "metadata": {},
   "outputs": [
    {
     "data": {
      "text/html": [
       "<div>\n",
       "<style scoped>\n",
       "    .dataframe tbody tr th:only-of-type {\n",
       "        vertical-align: middle;\n",
       "    }\n",
       "\n",
       "    .dataframe tbody tr th {\n",
       "        vertical-align: top;\n",
       "    }\n",
       "\n",
       "    .dataframe thead th {\n",
       "        text-align: right;\n",
       "    }\n",
       "</style>\n",
       "<table border=\"1\" class=\"dataframe\">\n",
       "  <thead>\n",
       "    <tr style=\"text-align: right;\">\n",
       "      <th></th>\n",
       "      <th>B</th>\n",
       "      <th>C</th>\n",
       "    </tr>\n",
       "  </thead>\n",
       "  <tbody>\n",
       "    <tr>\n",
       "      <th>2013-01-01</th>\n",
       "      <td>0.129113</td>\n",
       "      <td>-0.988095</td>\n",
       "    </tr>\n",
       "    <tr>\n",
       "      <th>2013-01-02</th>\n",
       "      <td>-1.283670</td>\n",
       "      <td>-1.999282</td>\n",
       "    </tr>\n",
       "    <tr>\n",
       "      <th>2013-01-03</th>\n",
       "      <td>-0.249360</td>\n",
       "      <td>-0.407249</td>\n",
       "    </tr>\n",
       "    <tr>\n",
       "      <th>2013-01-04</th>\n",
       "      <td>-0.528718</td>\n",
       "      <td>0.845390</td>\n",
       "    </tr>\n",
       "    <tr>\n",
       "      <th>2013-01-05</th>\n",
       "      <td>-0.135289</td>\n",
       "      <td>0.420836</td>\n",
       "    </tr>\n",
       "    <tr>\n",
       "      <th>2013-01-06</th>\n",
       "      <td>0.609951</td>\n",
       "      <td>-0.697692</td>\n",
       "    </tr>\n",
       "  </tbody>\n",
       "</table>\n",
       "</div>"
      ],
      "text/plain": [
       "                   B         C\n",
       "2013-01-01  0.129113 -0.988095\n",
       "2013-01-02 -1.283670 -1.999282\n",
       "2013-01-03 -0.249360 -0.407249\n",
       "2013-01-04 -0.528718  0.845390\n",
       "2013-01-05 -0.135289  0.420836\n",
       "2013-01-06  0.609951 -0.697692"
      ]
     },
     "execution_count": 53,
     "metadata": {},
     "output_type": "execute_result"
    }
   ],
   "source": [
    "In [36]: df.iloc[:, 1:3]"
   ]
  },
  {
   "cell_type": "code",
   "execution_count": 54,
   "id": "4b8b8b9b-4657-4208-8024-c21596522c90",
   "metadata": {},
   "outputs": [
    {
     "data": {
      "text/plain": [
       "np.float64(-1.2836702905590316)"
      ]
     },
     "execution_count": 54,
     "metadata": {},
     "output_type": "execute_result"
    }
   ],
   "source": [
    "In [37]: df.iloc[1, 1]"
   ]
  },
  {
   "cell_type": "code",
   "execution_count": null,
   "id": "be64af39-1dfb-47e9-a37f-e573abe20bbe",
   "metadata": {},
   "outputs": [],
   "source": [
    "# 스칼라에 빠르게 접근"
   ]
  },
  {
   "cell_type": "code",
   "execution_count": 55,
   "id": "474b8fb8-cc83-41dc-989d-a049df70b05c",
   "metadata": {},
   "outputs": [
    {
     "data": {
      "text/plain": [
       "np.float64(-1.2836702905590316)"
      ]
     },
     "execution_count": 55,
     "metadata": {},
     "output_type": "execute_result"
    }
   ],
   "source": [
    "In [38]: df.iat[1, 1]"
   ]
  },
  {
   "cell_type": "code",
   "execution_count": null,
   "id": "b525f72a-588e-4221-b553-cd0c58b43bd2",
   "metadata": {},
   "outputs": [],
   "source": []
  },
  {
   "cell_type": "code",
   "execution_count": 56,
   "id": "fc7b3808-824f-4c56-8cee-2b143a587f45",
   "metadata": {},
   "outputs": [
    {
     "data": {
      "text/html": [
       "<div>\n",
       "<style scoped>\n",
       "    .dataframe tbody tr th:only-of-type {\n",
       "        vertical-align: middle;\n",
       "    }\n",
       "\n",
       "    .dataframe tbody tr th {\n",
       "        vertical-align: top;\n",
       "    }\n",
       "\n",
       "    .dataframe thead th {\n",
       "        text-align: right;\n",
       "    }\n",
       "</style>\n",
       "<table border=\"1\" class=\"dataframe\">\n",
       "  <thead>\n",
       "    <tr style=\"text-align: right;\">\n",
       "      <th></th>\n",
       "      <th>A</th>\n",
       "      <th>B</th>\n",
       "      <th>C</th>\n",
       "      <th>D</th>\n",
       "    </tr>\n",
       "  </thead>\n",
       "  <tbody>\n",
       "    <tr>\n",
       "      <th>2013-01-03</th>\n",
       "      <td>0.519579</td>\n",
       "      <td>-0.249360</td>\n",
       "      <td>-0.407249</td>\n",
       "      <td>0.431796</td>\n",
       "    </tr>\n",
       "    <tr>\n",
       "      <th>2013-01-04</th>\n",
       "      <td>0.974347</td>\n",
       "      <td>-0.528718</td>\n",
       "      <td>0.845390</td>\n",
       "      <td>-1.507097</td>\n",
       "    </tr>\n",
       "    <tr>\n",
       "      <th>2013-01-06</th>\n",
       "      <td>1.163448</td>\n",
       "      <td>0.609951</td>\n",
       "      <td>-0.697692</td>\n",
       "      <td>1.838430</td>\n",
       "    </tr>\n",
       "  </tbody>\n",
       "</table>\n",
       "</div>"
      ],
      "text/plain": [
       "                   A         B         C         D\n",
       "2013-01-03  0.519579 -0.249360 -0.407249  0.431796\n",
       "2013-01-04  0.974347 -0.528718  0.845390 -1.507097\n",
       "2013-01-06  1.163448  0.609951 -0.697692  1.838430"
      ]
     },
     "execution_count": 56,
     "metadata": {},
     "output_type": "execute_result"
    }
   ],
   "source": [
    "In [39]: df[df[\"A\"] > 0]"
   ]
  },
  {
   "cell_type": "code",
   "execution_count": 58,
   "id": "0a75568e-8f39-4404-8c0b-710e392dc1a4",
   "metadata": {},
   "outputs": [
    {
     "data": {
      "text/html": [
       "<div>\n",
       "<style scoped>\n",
       "    .dataframe tbody tr th:only-of-type {\n",
       "        vertical-align: middle;\n",
       "    }\n",
       "\n",
       "    .dataframe tbody tr th {\n",
       "        vertical-align: top;\n",
       "    }\n",
       "\n",
       "    .dataframe thead th {\n",
       "        text-align: right;\n",
       "    }\n",
       "</style>\n",
       "<table border=\"1\" class=\"dataframe\">\n",
       "  <thead>\n",
       "    <tr style=\"text-align: right;\">\n",
       "      <th></th>\n",
       "      <th>A</th>\n",
       "      <th>B</th>\n",
       "      <th>C</th>\n",
       "      <th>D</th>\n",
       "    </tr>\n",
       "  </thead>\n",
       "  <tbody>\n",
       "    <tr>\n",
       "      <th>2013-01-01</th>\n",
       "      <td>NaN</td>\n",
       "      <td>0.129113</td>\n",
       "      <td>NaN</td>\n",
       "      <td>1.192026</td>\n",
       "    </tr>\n",
       "    <tr>\n",
       "      <th>2013-01-02</th>\n",
       "      <td>NaN</td>\n",
       "      <td>NaN</td>\n",
       "      <td>NaN</td>\n",
       "      <td>0.384007</td>\n",
       "    </tr>\n",
       "    <tr>\n",
       "      <th>2013-01-03</th>\n",
       "      <td>0.519579</td>\n",
       "      <td>NaN</td>\n",
       "      <td>NaN</td>\n",
       "      <td>0.431796</td>\n",
       "    </tr>\n",
       "    <tr>\n",
       "      <th>2013-01-04</th>\n",
       "      <td>0.974347</td>\n",
       "      <td>NaN</td>\n",
       "      <td>0.845390</td>\n",
       "      <td>NaN</td>\n",
       "    </tr>\n",
       "    <tr>\n",
       "      <th>2013-01-05</th>\n",
       "      <td>NaN</td>\n",
       "      <td>NaN</td>\n",
       "      <td>0.420836</td>\n",
       "      <td>1.773432</td>\n",
       "    </tr>\n",
       "    <tr>\n",
       "      <th>2013-01-06</th>\n",
       "      <td>1.163448</td>\n",
       "      <td>0.609951</td>\n",
       "      <td>NaN</td>\n",
       "      <td>1.838430</td>\n",
       "    </tr>\n",
       "  </tbody>\n",
       "</table>\n",
       "</div>"
      ],
      "text/plain": [
       "                   A         B         C         D\n",
       "2013-01-01       NaN  0.129113       NaN  1.192026\n",
       "2013-01-02       NaN       NaN       NaN  0.384007\n",
       "2013-01-03  0.519579       NaN       NaN  0.431796\n",
       "2013-01-04  0.974347       NaN  0.845390       NaN\n",
       "2013-01-05       NaN       NaN  0.420836  1.773432\n",
       "2013-01-06  1.163448  0.609951       NaN  1.838430"
      ]
     },
     "execution_count": 58,
     "metadata": {},
     "output_type": "execute_result"
    }
   ],
   "source": [
    "In [40]: df[df > 0]"
   ]
  },
  {
   "cell_type": "code",
   "execution_count": null,
   "id": "98695f0d-34f9-4441-8cab-1a2826d897f5",
   "metadata": {},
   "outputs": [],
   "source": []
  },
  {
   "cell_type": "code",
   "execution_count": null,
   "id": "bb975956-04af-4042-89b0-5d524f78d25b",
   "metadata": {},
   "outputs": [],
   "source": [
    "# isin() 필터링 방법 사용"
   ]
  },
  {
   "cell_type": "code",
   "execution_count": 59,
   "id": "c03bac1c-d911-4025-92d7-a2b028561972",
   "metadata": {},
   "outputs": [],
   "source": [
    "In [41]: df2 = df.copy()"
   ]
  },
  {
   "cell_type": "code",
   "execution_count": 60,
   "id": "236a24a5-dd31-4ed4-8efd-c36e1d012ab3",
   "metadata": {},
   "outputs": [],
   "source": [
    "In [42]: df2[\"E\"] = [\"one\", \"one\", \"two\", \"three\", \"four\", \"three\"]"
   ]
  },
  {
   "cell_type": "code",
   "execution_count": 61,
   "id": "a99084fe-be48-494d-8371-a121d71da48d",
   "metadata": {},
   "outputs": [
    {
     "data": {
      "text/html": [
       "<div>\n",
       "<style scoped>\n",
       "    .dataframe tbody tr th:only-of-type {\n",
       "        vertical-align: middle;\n",
       "    }\n",
       "\n",
       "    .dataframe tbody tr th {\n",
       "        vertical-align: top;\n",
       "    }\n",
       "\n",
       "    .dataframe thead th {\n",
       "        text-align: right;\n",
       "    }\n",
       "</style>\n",
       "<table border=\"1\" class=\"dataframe\">\n",
       "  <thead>\n",
       "    <tr style=\"text-align: right;\">\n",
       "      <th></th>\n",
       "      <th>A</th>\n",
       "      <th>B</th>\n",
       "      <th>C</th>\n",
       "      <th>D</th>\n",
       "      <th>E</th>\n",
       "    </tr>\n",
       "  </thead>\n",
       "  <tbody>\n",
       "    <tr>\n",
       "      <th>2013-01-01</th>\n",
       "      <td>-2.197240</td>\n",
       "      <td>0.129113</td>\n",
       "      <td>-0.988095</td>\n",
       "      <td>1.192026</td>\n",
       "      <td>one</td>\n",
       "    </tr>\n",
       "    <tr>\n",
       "      <th>2013-01-02</th>\n",
       "      <td>-0.038755</td>\n",
       "      <td>-1.283670</td>\n",
       "      <td>-1.999282</td>\n",
       "      <td>0.384007</td>\n",
       "      <td>one</td>\n",
       "    </tr>\n",
       "    <tr>\n",
       "      <th>2013-01-03</th>\n",
       "      <td>0.519579</td>\n",
       "      <td>-0.249360</td>\n",
       "      <td>-0.407249</td>\n",
       "      <td>0.431796</td>\n",
       "      <td>two</td>\n",
       "    </tr>\n",
       "    <tr>\n",
       "      <th>2013-01-04</th>\n",
       "      <td>0.974347</td>\n",
       "      <td>-0.528718</td>\n",
       "      <td>0.845390</td>\n",
       "      <td>-1.507097</td>\n",
       "      <td>three</td>\n",
       "    </tr>\n",
       "    <tr>\n",
       "      <th>2013-01-05</th>\n",
       "      <td>-0.961716</td>\n",
       "      <td>-0.135289</td>\n",
       "      <td>0.420836</td>\n",
       "      <td>1.773432</td>\n",
       "      <td>four</td>\n",
       "    </tr>\n",
       "    <tr>\n",
       "      <th>2013-01-06</th>\n",
       "      <td>1.163448</td>\n",
       "      <td>0.609951</td>\n",
       "      <td>-0.697692</td>\n",
       "      <td>1.838430</td>\n",
       "      <td>three</td>\n",
       "    </tr>\n",
       "  </tbody>\n",
       "</table>\n",
       "</div>"
      ],
      "text/plain": [
       "                   A         B         C         D      E\n",
       "2013-01-01 -2.197240  0.129113 -0.988095  1.192026    one\n",
       "2013-01-02 -0.038755 -1.283670 -1.999282  0.384007    one\n",
       "2013-01-03  0.519579 -0.249360 -0.407249  0.431796    two\n",
       "2013-01-04  0.974347 -0.528718  0.845390 -1.507097  three\n",
       "2013-01-05 -0.961716 -0.135289  0.420836  1.773432   four\n",
       "2013-01-06  1.163448  0.609951 -0.697692  1.838430  three"
      ]
     },
     "execution_count": 61,
     "metadata": {},
     "output_type": "execute_result"
    }
   ],
   "source": [
    "In [43]: df2"
   ]
  },
  {
   "cell_type": "code",
   "execution_count": 63,
   "id": "78ae0da4-19f6-4d79-acc0-fc0b22e6cc7c",
   "metadata": {},
   "outputs": [
    {
     "data": {
      "text/html": [
       "<div>\n",
       "<style scoped>\n",
       "    .dataframe tbody tr th:only-of-type {\n",
       "        vertical-align: middle;\n",
       "    }\n",
       "\n",
       "    .dataframe tbody tr th {\n",
       "        vertical-align: top;\n",
       "    }\n",
       "\n",
       "    .dataframe thead th {\n",
       "        text-align: right;\n",
       "    }\n",
       "</style>\n",
       "<table border=\"1\" class=\"dataframe\">\n",
       "  <thead>\n",
       "    <tr style=\"text-align: right;\">\n",
       "      <th></th>\n",
       "      <th>A</th>\n",
       "      <th>B</th>\n",
       "      <th>C</th>\n",
       "      <th>D</th>\n",
       "      <th>E</th>\n",
       "    </tr>\n",
       "  </thead>\n",
       "  <tbody>\n",
       "    <tr>\n",
       "      <th>2013-01-03</th>\n",
       "      <td>0.519579</td>\n",
       "      <td>-0.249360</td>\n",
       "      <td>-0.407249</td>\n",
       "      <td>0.431796</td>\n",
       "      <td>two</td>\n",
       "    </tr>\n",
       "    <tr>\n",
       "      <th>2013-01-05</th>\n",
       "      <td>-0.961716</td>\n",
       "      <td>-0.135289</td>\n",
       "      <td>0.420836</td>\n",
       "      <td>1.773432</td>\n",
       "      <td>four</td>\n",
       "    </tr>\n",
       "  </tbody>\n",
       "</table>\n",
       "</div>"
      ],
      "text/plain": [
       "                   A         B         C         D     E\n",
       "2013-01-03  0.519579 -0.249360 -0.407249  0.431796   two\n",
       "2013-01-05 -0.961716 -0.135289  0.420836  1.773432  four"
      ]
     },
     "execution_count": 63,
     "metadata": {},
     "output_type": "execute_result"
    }
   ],
   "source": [
    "In [44]: df2[df2[\"E\"].isin([\"two\", \"four\"])]"
   ]
  },
  {
   "cell_type": "code",
   "execution_count": null,
   "id": "fde42227-9546-48bf-af62-e3c19af662cc",
   "metadata": {},
   "outputs": [],
   "source": []
  },
  {
   "cell_type": "code",
   "execution_count": 67,
   "id": "561c2f20-a39f-4991-bdcb-f421699efa2a",
   "metadata": {},
   "outputs": [],
   "source": [
    "In [45]: s1 = pd.Series([1, 2, 3, 4, 5, 6], index=pd.date_range(\"20130102\", periods=6))"
   ]
  },
  {
   "cell_type": "code",
   "execution_count": 68,
   "id": "bca408cc-ffda-4b95-97ef-88e955503a4d",
   "metadata": {},
   "outputs": [
    {
     "data": {
      "text/plain": [
       "2013-01-02    1\n",
       "2013-01-03    2\n",
       "2013-01-04    3\n",
       "2013-01-05    4\n",
       "2013-01-06    5\n",
       "2013-01-07    6\n",
       "Freq: D, dtype: int64"
      ]
     },
     "execution_count": 68,
     "metadata": {},
     "output_type": "execute_result"
    }
   ],
   "source": [
    "In [46]: s1"
   ]
  },
  {
   "cell_type": "code",
   "execution_count": 69,
   "id": "86fd524b-c619-42be-a5ed-aa3b9258c4f7",
   "metadata": {},
   "outputs": [],
   "source": [
    "In [47]: df[\"F\"] = s1"
   ]
  },
  {
   "cell_type": "code",
   "execution_count": 70,
   "id": "bee06a23-f37a-449b-bbe5-c95126ef0f3e",
   "metadata": {},
   "outputs": [],
   "source": [
    "In [48]: df.at[dates[0], \"A\"] = 0"
   ]
  },
  {
   "cell_type": "code",
   "execution_count": 71,
   "id": "bbaa5aed-6899-429f-9d2f-467c68860afd",
   "metadata": {},
   "outputs": [],
   "source": [
    "In [49]: df.iat[0, 1] = 0"
   ]
  },
  {
   "cell_type": "code",
   "execution_count": 73,
   "id": "05c029f9-3158-4dfb-914b-38404e2aad2a",
   "metadata": {},
   "outputs": [],
   "source": [
    "In [50]: df.loc[:, \"D\"] = np.array([5] * len(df))"
   ]
  },
  {
   "cell_type": "code",
   "execution_count": 74,
   "id": "c93b7ea6-34d2-40e3-8632-06224dc55d66",
   "metadata": {},
   "outputs": [
    {
     "data": {
      "text/html": [
       "<div>\n",
       "<style scoped>\n",
       "    .dataframe tbody tr th:only-of-type {\n",
       "        vertical-align: middle;\n",
       "    }\n",
       "\n",
       "    .dataframe tbody tr th {\n",
       "        vertical-align: top;\n",
       "    }\n",
       "\n",
       "    .dataframe thead th {\n",
       "        text-align: right;\n",
       "    }\n",
       "</style>\n",
       "<table border=\"1\" class=\"dataframe\">\n",
       "  <thead>\n",
       "    <tr style=\"text-align: right;\">\n",
       "      <th></th>\n",
       "      <th>A</th>\n",
       "      <th>B</th>\n",
       "      <th>C</th>\n",
       "      <th>D</th>\n",
       "      <th>F</th>\n",
       "    </tr>\n",
       "  </thead>\n",
       "  <tbody>\n",
       "    <tr>\n",
       "      <th>2013-01-01</th>\n",
       "      <td>0.000000</td>\n",
       "      <td>0.000000</td>\n",
       "      <td>-0.988095</td>\n",
       "      <td>5.0</td>\n",
       "      <td>NaN</td>\n",
       "    </tr>\n",
       "    <tr>\n",
       "      <th>2013-01-02</th>\n",
       "      <td>-0.038755</td>\n",
       "      <td>-1.283670</td>\n",
       "      <td>-1.999282</td>\n",
       "      <td>5.0</td>\n",
       "      <td>1.0</td>\n",
       "    </tr>\n",
       "    <tr>\n",
       "      <th>2013-01-03</th>\n",
       "      <td>0.519579</td>\n",
       "      <td>-0.249360</td>\n",
       "      <td>-0.407249</td>\n",
       "      <td>5.0</td>\n",
       "      <td>2.0</td>\n",
       "    </tr>\n",
       "    <tr>\n",
       "      <th>2013-01-04</th>\n",
       "      <td>0.974347</td>\n",
       "      <td>-0.528718</td>\n",
       "      <td>0.845390</td>\n",
       "      <td>5.0</td>\n",
       "      <td>3.0</td>\n",
       "    </tr>\n",
       "    <tr>\n",
       "      <th>2013-01-05</th>\n",
       "      <td>-0.961716</td>\n",
       "      <td>-0.135289</td>\n",
       "      <td>0.420836</td>\n",
       "      <td>5.0</td>\n",
       "      <td>4.0</td>\n",
       "    </tr>\n",
       "    <tr>\n",
       "      <th>2013-01-06</th>\n",
       "      <td>1.163448</td>\n",
       "      <td>0.609951</td>\n",
       "      <td>-0.697692</td>\n",
       "      <td>5.0</td>\n",
       "      <td>5.0</td>\n",
       "    </tr>\n",
       "  </tbody>\n",
       "</table>\n",
       "</div>"
      ],
      "text/plain": [
       "                   A         B         C    D    F\n",
       "2013-01-01  0.000000  0.000000 -0.988095  5.0  NaN\n",
       "2013-01-02 -0.038755 -1.283670 -1.999282  5.0  1.0\n",
       "2013-01-03  0.519579 -0.249360 -0.407249  5.0  2.0\n",
       "2013-01-04  0.974347 -0.528718  0.845390  5.0  3.0\n",
       "2013-01-05 -0.961716 -0.135289  0.420836  5.0  4.0\n",
       "2013-01-06  1.163448  0.609951 -0.697692  5.0  5.0"
      ]
     },
     "execution_count": 74,
     "metadata": {},
     "output_type": "execute_result"
    }
   ],
   "source": [
    "In [51]: df"
   ]
  },
  {
   "cell_type": "code",
   "execution_count": 75,
   "id": "44f75ccd-0f94-42d7-87a4-df314f6929ad",
   "metadata": {},
   "outputs": [],
   "source": [
    "In [52]: df2 = df.copy()"
   ]
  },
  {
   "cell_type": "code",
   "execution_count": 76,
   "id": "115d2c1e-910e-467b-8b9a-fe9d132372eb",
   "metadata": {},
   "outputs": [],
   "source": [
    "In [53]: df2[df2 > 0] = -df2"
   ]
  },
  {
   "cell_type": "code",
   "execution_count": 77,
   "id": "b5dc0440-7ee0-4d80-91cb-df42c3e4af0b",
   "metadata": {},
   "outputs": [
    {
     "data": {
      "text/html": [
       "<div>\n",
       "<style scoped>\n",
       "    .dataframe tbody tr th:only-of-type {\n",
       "        vertical-align: middle;\n",
       "    }\n",
       "\n",
       "    .dataframe tbody tr th {\n",
       "        vertical-align: top;\n",
       "    }\n",
       "\n",
       "    .dataframe thead th {\n",
       "        text-align: right;\n",
       "    }\n",
       "</style>\n",
       "<table border=\"1\" class=\"dataframe\">\n",
       "  <thead>\n",
       "    <tr style=\"text-align: right;\">\n",
       "      <th></th>\n",
       "      <th>A</th>\n",
       "      <th>B</th>\n",
       "      <th>C</th>\n",
       "      <th>D</th>\n",
       "      <th>F</th>\n",
       "    </tr>\n",
       "  </thead>\n",
       "  <tbody>\n",
       "    <tr>\n",
       "      <th>2013-01-01</th>\n",
       "      <td>0.000000</td>\n",
       "      <td>0.000000</td>\n",
       "      <td>-0.988095</td>\n",
       "      <td>-5.0</td>\n",
       "      <td>NaN</td>\n",
       "    </tr>\n",
       "    <tr>\n",
       "      <th>2013-01-02</th>\n",
       "      <td>-0.038755</td>\n",
       "      <td>-1.283670</td>\n",
       "      <td>-1.999282</td>\n",
       "      <td>-5.0</td>\n",
       "      <td>-1.0</td>\n",
       "    </tr>\n",
       "    <tr>\n",
       "      <th>2013-01-03</th>\n",
       "      <td>-0.519579</td>\n",
       "      <td>-0.249360</td>\n",
       "      <td>-0.407249</td>\n",
       "      <td>-5.0</td>\n",
       "      <td>-2.0</td>\n",
       "    </tr>\n",
       "    <tr>\n",
       "      <th>2013-01-04</th>\n",
       "      <td>-0.974347</td>\n",
       "      <td>-0.528718</td>\n",
       "      <td>-0.845390</td>\n",
       "      <td>-5.0</td>\n",
       "      <td>-3.0</td>\n",
       "    </tr>\n",
       "    <tr>\n",
       "      <th>2013-01-05</th>\n",
       "      <td>-0.961716</td>\n",
       "      <td>-0.135289</td>\n",
       "      <td>-0.420836</td>\n",
       "      <td>-5.0</td>\n",
       "      <td>-4.0</td>\n",
       "    </tr>\n",
       "    <tr>\n",
       "      <th>2013-01-06</th>\n",
       "      <td>-1.163448</td>\n",
       "      <td>-0.609951</td>\n",
       "      <td>-0.697692</td>\n",
       "      <td>-5.0</td>\n",
       "      <td>-5.0</td>\n",
       "    </tr>\n",
       "  </tbody>\n",
       "</table>\n",
       "</div>"
      ],
      "text/plain": [
       "                   A         B         C    D    F\n",
       "2013-01-01  0.000000  0.000000 -0.988095 -5.0  NaN\n",
       "2013-01-02 -0.038755 -1.283670 -1.999282 -5.0 -1.0\n",
       "2013-01-03 -0.519579 -0.249360 -0.407249 -5.0 -2.0\n",
       "2013-01-04 -0.974347 -0.528718 -0.845390 -5.0 -3.0\n",
       "2013-01-05 -0.961716 -0.135289 -0.420836 -5.0 -4.0\n",
       "2013-01-06 -1.163448 -0.609951 -0.697692 -5.0 -5.0"
      ]
     },
     "execution_count": 77,
     "metadata": {},
     "output_type": "execute_result"
    }
   ],
   "source": [
    "In [54]: df2"
   ]
  },
  {
   "cell_type": "code",
   "execution_count": null,
   "id": "a964d706-7c26-4dc5-b549-83898669803f",
   "metadata": {},
   "outputs": [],
   "source": []
  }
 ],
 "metadata": {
  "kernelspec": {
   "display_name": "Python 3 (ipykernel)",
   "language": "python",
   "name": "python3"
  },
  "language_info": {
   "codemirror_mode": {
    "name": "ipython",
    "version": 3
   },
   "file_extension": ".py",
   "mimetype": "text/x-python",
   "name": "python",
   "nbconvert_exporter": "python",
   "pygments_lexer": "ipython3",
   "version": "3.11.9"
  }
 },
 "nbformat": 4,
 "nbformat_minor": 5
}
